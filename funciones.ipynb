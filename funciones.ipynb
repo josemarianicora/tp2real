     "# Procesar cada ronda\n",
     "def calcular_puntaje(kills, assists, deaths):\n",
     "    return (kills * 3) + assists - (1 if deaths else 0)\n",
     "\n",
