{
 "cells": [
  {
   "cell_type": "code",
   "execution_count": 10,
   "id": "645d97f6-7f56-4463-9d10-48d496b7c379",
   "metadata": {},
   "outputs": [
    {
     "name": "stdout",
     "output_type": "stream",
     "text": [
      "Jugando al nuevo FPS del momento con amigos\n"
     ]
    }
   ],
   "source": [
    "titles = [\"Speedrun de Super Mario en tiempo récord\",\n",
    "          \"Charla sobre desarrollo de videojuegos\",\n",
    "          \"Jugando al nuevo FPS del momento con amigos\",\n",
    "          \"Música en vivo: improvisaciones al piano\"\n",
    "]\n",
    "max = 0\n",
    "for i in range(len(titles)):\n",
    "    if len(titles[i]) > max:\n",
    "        max = len(titles[i])\n",
    "        maslarga = titles[i]\n",
    "print(maslarga)"
   ]
  },
  {
   "cell_type": "code",
   "execution_count": null,
   "id": "9ab4f929-1b57-4c10-9af6-14ed544c00fe",
   "metadata": {},
   "outputs": [],
   "source": []
  }
 ],
 "metadata": {
  "kernelspec": {
   "display_name": "Python 3 (ipykernel)",
   "language": "python",
   "name": "python3"
  },
  "language_info": {
   "codemirror_mode": {
    "name": "ipython",
    "version": 3
   },
   "file_extension": ".py",
   "mimetype": "text/x-python",
   "name": "python",
   "nbconvert_exporter": "python",
   "pygments_lexer": "ipython3",
   "version": "3.12.9"
  }
 },
 "nbformat": 4,
 "nbformat_minor": 5
}
