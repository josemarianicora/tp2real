rounds = [
    {
        'Shadow': {'kills': 2, 'assists': 1, 'deaths': True},
        'Blaze': {'kills': 1, 'assists': 0, 'deaths': False},
        'Viper': {'kills': 1, 'assists': 2, 'deaths': True},
        'Frost': {'kills': 0, 'assists': 1, 'deaths': False},
        'Reaper': {'kills': 1, 'assists': 1, 'deaths': False}
    },
    {
        'Shadow': {'kills': 0, 'assists': 2, 'deaths': False},
        'Blaze': {'kills': 2, 'assists': 0, 'deaths': True},
        'Viper': {'kills': 1, 'assists': 1, 'deaths': False},
        'Frost': {'kills': 2, 'assists': 1, 'deaths': True},
        'Reaper': {'kills': 0, 'assists': 1, 'deaths': False}
    },
    {
        'Shadow': {'kills': 1, 'assists': 0, 'deaths': False},
        'Blaze': {'kills': 2, 'assists': 2, 'deaths': True},
        'Viper': {'kills': 1, 'assists': 1, 'deaths': True},
        'Frost': {'kills': 0, 'assists': 1, 'deaths': False},
        'Reaper': {'kills': 1, 'assists': 1, 'deaths': False}
    },
    {
        'Shadow': {'kills': 2, 'assists': 1, 'deaths': False},
        'Blaze': {'kills': 1, 'assists': 0, 'deaths': True},
        'Viper': {'kills': 0, 'assists': 2, 'deaths': False},
        'Frost': {'kills': 1, 'assists': 1, 'deaths': True},
        'Reaper': {'kills': 1, 'assists': 1, 'deaths': False}
    },
    {
        'Shadow': {'kills': 1, 'assists': 2, 'deaths': True},
        'Blaze': {'kills': 0, 'assists': 1, 'deaths': False},
        'Viper': {'kills': 2, 'assists': 0, 'deaths': True},
        'Frost': {'kills': 1, 'assists': 1, 'deaths': False},
        'Reaper': {'kills': 1, 'assists': 1, 'deaths': True}
    }
]

# Inicializar estadísticas de jugadores
players = {player: {"kills": 0, "assists": 0, "deaths": 0, "mvps": 0, "puntos": 0} for player in rounds[0].keys()}

# Procesar cada ronda
def calcular_puntaje(kills, assists, deaths):
    return (kills * 3) + assists - (1 if deaths else 0)

for i, round_data in enumerate(rounds, 1):
    mvp = None
    max_puntos = 0
    
    for player, stats in round_data.items():
        players[player]["kills"] += stats["kills"]
        players[player]["assists"] += stats["assists"]
        players[player]["deaths"] += 1 if stats["deaths"] else 0
        puntos = calcular_puntaje(stats["kills"], stats["assists"], stats["deaths"])
        players[player]["puntos"] += puntos
        
        if puntos > max_puntos:
            max_puntos = puntos
            mvp = player
    
    players[mvp]["mvps"] += 1
    
    print(f"\nRanking tras la ronda {i}:")
    ranking = sorted(players.items(), key=lambda x: x[1]["puntos"], reverse=True)
    for player, stats in ranking:
        print(f"{player}: {stats}")

# Mostrar ranking final
print("\nRanking final:")
ranking_final = sorted(players.items(), key=lambda x: x[1]["puntos"], reverse=True)
for player, stats in ranking_final:
    print(f"{player}: {stats}")
  }
 },
 "nbformat": 4,
 "nbformat_minor": 5
}
